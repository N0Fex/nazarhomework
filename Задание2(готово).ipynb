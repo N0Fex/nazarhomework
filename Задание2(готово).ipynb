{
 "cells": [
  {
   "cell_type": "markdown",
   "metadata": {},
   "source": [
    "#  Лабораторна робота №2\n",
    "### Практичне завдання №2\n",
    "***"
   ]
  },
  {
   "cell_type": "markdown",
   "metadata": {},
   "source": [
    "## Структури даних"
   ]
  },
  {
   "cell_type": "markdown",
   "metadata": {},
   "source": [
    "###  Списки - List\n",
    "\n",
    "__Списки__ - це найбільш часто використовувана структура даних. \n",
    "\n",
    "Це послідовність даних, яка укладена у квадратні дужки, а дані відокремлюються комою. До кожного з цих даних можна отримати доступ, викликавши його значення по індексу.\n",
    "Списки оголошуються просто прирівнюючи змінну до '[]' або списку.\n",
    "\n",
    "```spisok = [obj1, obj2, ..., objN]```, де obj - будь-який допустимий python-об'єкт\n",
    "\n",
    "spisok = [1, -0.12, \"Вася\", [42, \"Пупкін\"], False ]\n",
    "\n",
    "[Докладніше про списки в Python](https://devpractice.ru/python-lesson-7-work-with-list/)"
   ]
  },
  {
   "cell_type": "code",
   "execution_count": null,
   "metadata": {},
   "outputs": [],
   "source": [
    "a = []\n",
    "print (type(a))"
   ]
  },
  {
   "cell_type": "markdown",
   "metadata": {},
   "source": [
    "### операції над списками\n",
    "\n",
    "1. ```+``` - __додавання__: приєднує один список до другого\n",
    "2. ```*``` - __множення__ : розшірює список вправо на множник"
   ]
  },
  {
   "cell_type": "code",
   "execution_count": null,
   "metadata": {},
   "outputs": [],
   "source": [
    "a = [1, 2, 3] + [3, 4]\n",
    "b = a * 2"
   ]
  },
  {
   "cell_type": "code",
   "execution_count": null,
   "metadata": {},
   "outputs": [],
   "source": [
    "print(\"a = \", a)\n",
    "print(\"b = \", b)"
   ]
  },
  {
   "cell_type": "code",
   "execution_count": 2,
   "metadata": {
    "run_control": {
     "marked": false
    }
   },
   "outputs": [
    {
     "name": "stdout",
     "output_type": "stream",
     "text": [
      "<class 'list'>\n",
      "['Nazar', 'Kabachenko']\n"
     ]
    }
   ],
   "source": [
    "### ЗАВДАННЯ 1: \n",
    "# 1) створити пустий список `i_am`\n",
    "# 2) записати в нього своє ім'я\n",
    "# 3) вивести `id` списка\n",
    "# 4) додати до списка другий елемент з своїм прізвищем\n",
    "# 5) вивести отриманий список то його `id`\n",
    "i_am=[\"Nazar\"]\n",
    "print(type(i_am))\n",
    "i_am.append(\"Kabachenko\")\n",
    "print(i_am)\n"
   ]
  },
  {
   "cell_type": "markdown",
   "metadata": {},
   "source": [
    "### Особливості зберігання даних в списках\n",
    "\n",
    "Списки - не змінюють свое `id` при зміні значень, або кількості елементів"
   ]
  },
  {
   "cell_type": "markdown",
   "metadata": {},
   "source": [
    "### Індексація в списках\n",
    "\n",
    "__Індексація__ - це метод доступу до окремого єлементу в списку. Елементи в списках нумеруються з 0, а доступ до них здійснюється через номер в квадратних дужках.\n",
    "\n",
    "name = \"Вася Пупкін\"\n",
    "name[5]"
   ]
  },
  {
   "cell_type": "code",
   "execution_count": 2,
   "metadata": {
    "scrolled": true
   },
   "outputs": [
    {
     "name": "stdout",
     "output_type": "stream",
     "text": [
      "4 4592036832\n",
      "[1, 2, 3, 99999, 5] 4592036832\n"
     ]
    }
   ],
   "source": [
    "n = [1,2,3,4,5]\n",
    "print(n[3], id(n))\n",
    "n[3] = 99999\n",
    "print(n, id(n))"
   ]
  },
  {
   "cell_type": "markdown",
   "metadata": {},
   "source": [
    "Індекси можуть бути відємними"
   ]
  },
  {
   "cell_type": "code",
   "execution_count": null,
   "metadata": {},
   "outputs": [],
   "source": [
    "print(n[-2])\n",
    "n[-2] = 4\n",
    "print(n)"
   ]
  },
  {
   "cell_type": "markdown",
   "metadata": {},
   "source": [
    "#### срізи в списках\n",
    "\n",
    "__Срізи__ - це метод виділення зі списка іншого списка по заданому діапазону індексів\n",
    "\n",
    "spisok[<начало> : <кінець> : <шаг>]"
   ]
  },
  {
   "cell_type": "code",
   "execution_count": null,
   "metadata": {
    "scrolled": false
   },
   "outputs": [],
   "source": [
    "n2 = n * 2\n",
    "print(\"n = \", n2)\n",
    "\n",
    "m = n[3:5]\n",
    "print(\"m = \", m)\n",
    "\n",
    "k = n[:4]\n",
    "print(\"k = \", k)\n",
    "\n",
    "l = n[: : 2]\n",
    "print(\"l = \", l)"
   ]
  },
  {
   "cell_type": "code",
   "execution_count": 23,
   "metadata": {
    "run_control": {
     "marked": false
    }
   },
   "outputs": [
    {
     "name": "stdout",
     "output_type": "stream",
     "text": [
      "1\n",
      "2\n",
      "3\n",
      "4\n",
      "5\n",
      "<<<<<<<<<<<\n",
      "6\n",
      "7\n",
      "8\n",
      "9\n",
      "10\n"
     ]
    }
   ],
   "source": [
    "### ЗАВДАННЯ 3: \n",
    "# 1) створити список із 10 натуральних чисел [1..10]\n",
    "# 2) написати код що виводить перші 5 єлементів\n",
    "# 3) написати код що виводить останні 6 єлементів\n",
    "# 4) написати код що виводить всі парні єлементи\n",
    "a=[1,2,3,4,5,6,7,8,9,10]\n",
    "for i in range(5):\n",
    "    print(i+1)\n",
    "print(\"<<<<<<<<<<<\")\n",
    "for i in a[5:10]:\n",
    "    print(i)\n"
   ]
  },
  {
   "cell_type": "markdown",
   "metadata": {},
   "source": [
    "#### функції і методи спісків"
   ]
  },
  {
   "cell_type": "code",
   "execution_count": null,
   "metadata": {},
   "outputs": [],
   "source": [
    "l = list(range(5))\n",
    "print(l)"
   ]
  },
  {
   "cell_type": "code",
   "execution_count": null,
   "metadata": {},
   "outputs": [],
   "source": [
    "print(dir(__builtins__))"
   ]
  },
  {
   "cell_type": "code",
   "execution_count": null,
   "metadata": {
    "scrolled": true
   },
   "outputs": [],
   "source": [
    "print(dir(list))"
   ]
  },
  {
   "cell_type": "markdown",
   "metadata": {},
   "source": [
    "### вкладені списки"
   ]
  },
  {
   "cell_type": "code",
   "execution_count": null,
   "metadata": {},
   "outputs": [],
   "source": [
    "spisok = [[1, 2], [3, 4]]\n",
    "print (spisok[0])\n",
    "print (spisok[0][1])"
   ]
  },
  {
   "cell_type": "code",
   "execution_count": 38,
   "metadata": {
    "run_control": {
     "marked": false
    }
   },
   "outputs": [
    {
     "ename": "TypeError",
     "evalue": "list indices must be integers or slices, not list",
     "output_type": "error",
     "traceback": [
      "\u001b[1;31m---------------------------------------------------------------------------\u001b[0m",
      "\u001b[1;31mTypeError\u001b[0m                                 Traceback (most recent call last)",
      "Input \u001b[1;32mIn [38]\u001b[0m, in \u001b[0;36m<cell line: 6>\u001b[1;34m()\u001b[0m\n\u001b[0;32m      1\u001b[0m \u001b[38;5;66;03m### ЗАВДАННЯ 4: \u001b[39;00m\n\u001b[0;32m      2\u001b[0m \u001b[38;5;66;03m# 1) створити вкладений список [[1,2,3], [4,5,6], [7,8,9]]\u001b[39;00m\n\u001b[0;32m      3\u001b[0m \u001b[38;5;66;03m# 2) написати код що замінює 4-ку на 42\u001b[39;00m\n\u001b[0;32m      4\u001b[0m \u001b[38;5;66;03m# 3) написати код що міняє місцями 3-ку та 5-ку\u001b[39;00m\n\u001b[0;32m      5\u001b[0m a\u001b[38;5;241m=\u001b[39m[[\u001b[38;5;241m1\u001b[39m,\u001b[38;5;241m2\u001b[39m,\u001b[38;5;241m3\u001b[39m], [\u001b[38;5;241m4\u001b[39m,\u001b[38;5;241m5\u001b[39m,\u001b[38;5;241m6\u001b[39m], [\u001b[38;5;241m7\u001b[39m,\u001b[38;5;241m8\u001b[39m,\u001b[38;5;241m9\u001b[39m]]\n\u001b[1;32m----> 6\u001b[0m \u001b[38;5;28;01mfor\u001b[39;00m \u001b[43mi\u001b[49m\u001b[43m[\u001b[49m\u001b[43mi\u001b[49m\u001b[43m]\u001b[49m \u001b[38;5;129;01min\u001b[39;00m a:\n\u001b[0;32m      7\u001b[0m     \u001b[38;5;28;01mif\u001b[39;00m i\u001b[38;5;241m==\u001b[39m\u001b[38;5;241m4\u001b[39m:\n\u001b[0;32m      8\u001b[0m         i\u001b[38;5;241m+\u001b[39m\u001b[38;5;241m38\u001b[39m\n",
      "\u001b[1;31mTypeError\u001b[0m: list indices must be integers or slices, not list"
     ]
    }
   ],
   "source": [
    "### ЗАВДАННЯ 4: \n",
    "# 1) створити вкладений список [[1,2,3], [4,5,6], [7,8,9]]\n",
    "# 2) написати код що замінює 4-ку на 42\n",
    "# 3) написати код що міняє місцями 3-ку та 5-ку\n",
    "a=[[1,2,3], [4,5,6], [7,8,9]]\n",
    "for i[i] in a:\n",
    "    if i==4:\n",
    "        i+38\n",
    "print(a)"
   ]
  },
  {
   "cell_type": "markdown",
   "metadata": {},
   "source": [
    "## Кортежі - tuples"
   ]
  },
  {
   "cell_type": "markdown",
   "metadata": {},
   "source": [
    "__Кортеж__ - це _незмінна_ структура послідовних даних в круглих дужках"
   ]
  },
  {
   "cell_type": "code",
   "execution_count": null,
   "metadata": {},
   "outputs": [],
   "source": [
    "k = ()    # пустий котреж\n",
    "k1 = (23,) # одноелементний кортеж\n",
    "kn = (1, 2, \"Вася\", [43, 1.2], (55, \"39\"))"
   ]
  },
  {
   "cell_type": "code",
   "execution_count": null,
   "metadata": {},
   "outputs": [],
   "source": [
    "print(type(k))"
   ]
  },
  {
   "cell_type": "markdown",
   "metadata": {},
   "source": [
    "#### відмінність від списків"
   ]
  },
  {
   "cell_type": "code",
   "execution_count": null,
   "metadata": {},
   "outputs": [],
   "source": [
    "l = [1, 2]\n",
    "k = (1, 2)\n",
    "print(l.__sizeof__())\n",
    "print(k.__sizeof__())"
   ]
  },
  {
   "cell_type": "code",
   "execution_count": null,
   "metadata": {
    "scrolled": true
   },
   "outputs": [],
   "source": [
    "print (l, id(l))\n",
    "l += [3]\n",
    "print (l, id(l))"
   ]
  },
  {
   "cell_type": "code",
   "execution_count": null,
   "metadata": {
    "scrolled": true
   },
   "outputs": [],
   "source": [
    "print (k, id(k))\n",
    "k += (3,)\n",
    "print (k, id(k))"
   ]
  },
  {
   "cell_type": "code",
   "execution_count": null,
   "metadata": {},
   "outputs": [],
   "source": [
    "l.append(4)\n",
    "print(l)"
   ]
  },
  {
   "cell_type": "markdown",
   "metadata": {},
   "source": [
    "## Словники - Dictionary\n",
    "\n",
    "__Словник__ - це _послідовна_ структура даних, кожний елемент якої є парою \"__ключ : зачення__\" (key-value) та записується в фігурних дужках через кому:\n",
    "\n",
    "slovnik = {key1:value1, key2:value2, ... keyN:valueN}\n",
    "\n",
    "\n",
    "<pre>slovnik = {int_num : 123,\n",
    "           stroka: \"John\",\n",
    "           some_list:[1,2,3],\n",
    "           \"const\":100}</pre>\n",
    "\n",
    "[Докладніше про словники в Python](https://devpractice.ru/python-lesson-9-dict/)"
   ]
  },
  {
   "cell_type": "markdown",
   "metadata": {},
   "source": [
    "## Словники - Dictionary\n",
    "\n",
    "__Словник__ - це _послідовна_ структура даних, кожний елемент якої є парою \"__ключ : зачення__\" (key-value) та записується в фігурних дужках через кому:\n",
    "\n",
    "slovnik = {key1:value1, key2:value2, ... keyN:valueN}\n",
    "\n",
    "\n",
    "<pre>slovnik = {int_num : 123,\n",
    "           stroka: \"John\",\n",
    "           some_list:[1,2,3],\n",
    "           \"const\":100}</pre>\n",
    "\n",
    "[Докладніше про словники в Python](https://devpractice.ru/python-lesson-9-dict/)"
   ]
  }
 ],
 "metadata": {
  "kernelspec": {
   "display_name": "Python 3 (ipykernel)",
   "language": "python",
   "name": "python3"
  },
  "language_info": {
   "codemirror_mode": {
    "name": "ipython",
    "version": 3
   },
   "file_extension": ".py",
   "mimetype": "text/x-python",
   "name": "python",
   "nbconvert_exporter": "python",
   "pygments_lexer": "ipython3",
   "version": "3.10.5"
  }
 },
 "nbformat": 4,
 "nbformat_minor": 2
}
